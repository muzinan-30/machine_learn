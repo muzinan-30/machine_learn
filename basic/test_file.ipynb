{
 "cells": [
  {
   "cell_type": "code",
   "execution_count": 1,
   "id": "initial_id",
   "metadata": {
    "collapsed": true,
    "ExecuteTime": {
     "end_time": "2023-12-28T10:32:46.509214Z",
     "start_time": "2023-12-28T10:32:45.818345Z"
    }
   },
   "outputs": [
    {
     "name": "stdout",
     "output_type": "stream",
     "text": [
      "2.0.3\n"
     ]
    }
   ],
   "source": [
    "import pandas as pd\n",
    "\n",
    "print(pd.__version__)"
   ]
  },
  {
   "cell_type": "code",
   "execution_count": 2,
   "outputs": [
    {
     "data": {
      "text/plain": "   1/25/2022   10:50:00 AM   35964.4  35964.4.1  35908.52  35922.24  31.63878\n0  1/25/2022   10:51:00 AM  35922.23   35953.93  35908.65  35952.12  25.06247\n1  1/25/2022   10:52:00 AM  35949.49   35964.40  35945.00  35961.94  13.20111\n2  1/25/2022   10:53:00 AM  35961.86   35979.31  35897.84  35926.10  28.14962\n3  1/25/2022   10:54:00 AM  35929.00   35930.94  35881.37  35898.68  17.63856\n4  1/25/2022   10:55:00 AM  35898.84   35934.19  35848.94  35856.63  45.07581",
      "text/html": "<div>\n<style scoped>\n    .dataframe tbody tr th:only-of-type {\n        vertical-align: middle;\n    }\n\n    .dataframe tbody tr th {\n        vertical-align: top;\n    }\n\n    .dataframe thead th {\n        text-align: right;\n    }\n</style>\n<table border=\"1\" class=\"dataframe\">\n  <thead>\n    <tr style=\"text-align: right;\">\n      <th></th>\n      <th>1/25/2022</th>\n      <th>10:50:00 AM</th>\n      <th>35964.4</th>\n      <th>35964.4.1</th>\n      <th>35908.52</th>\n      <th>35922.24</th>\n      <th>31.63878</th>\n    </tr>\n  </thead>\n  <tbody>\n    <tr>\n      <th>0</th>\n      <td>1/25/2022</td>\n      <td>10:51:00 AM</td>\n      <td>35922.23</td>\n      <td>35953.93</td>\n      <td>35908.65</td>\n      <td>35952.12</td>\n      <td>25.06247</td>\n    </tr>\n    <tr>\n      <th>1</th>\n      <td>1/25/2022</td>\n      <td>10:52:00 AM</td>\n      <td>35949.49</td>\n      <td>35964.40</td>\n      <td>35945.00</td>\n      <td>35961.94</td>\n      <td>13.20111</td>\n    </tr>\n    <tr>\n      <th>2</th>\n      <td>1/25/2022</td>\n      <td>10:53:00 AM</td>\n      <td>35961.86</td>\n      <td>35979.31</td>\n      <td>35897.84</td>\n      <td>35926.10</td>\n      <td>28.14962</td>\n    </tr>\n    <tr>\n      <th>3</th>\n      <td>1/25/2022</td>\n      <td>10:54:00 AM</td>\n      <td>35929.00</td>\n      <td>35930.94</td>\n      <td>35881.37</td>\n      <td>35898.68</td>\n      <td>17.63856</td>\n    </tr>\n    <tr>\n      <th>4</th>\n      <td>1/25/2022</td>\n      <td>10:55:00 AM</td>\n      <td>35898.84</td>\n      <td>35934.19</td>\n      <td>35848.94</td>\n      <td>35856.63</td>\n      <td>45.07581</td>\n    </tr>\n  </tbody>\n</table>\n</div>"
     },
     "execution_count": 2,
     "metadata": {},
     "output_type": "execute_result"
    }
   ],
   "source": [
    "df = pd.read_csv('data.csv', header=0)\n",
    "df.head()"
   ],
   "metadata": {
    "collapsed": false,
    "ExecuteTime": {
     "end_time": "2023-12-28T10:38:37.273155Z",
     "start_time": "2023-12-28T10:38:37.242698Z"
    }
   },
   "id": "23527d5cbccd2539"
  },
  {
   "cell_type": "markdown",
   "source": [],
   "metadata": {
    "collapsed": false
   },
   "id": "a9f7dc481bdb63fe"
  },
  {
   "cell_type": "code",
   "execution_count": 6,
   "outputs": [],
   "source": [
    "df.columns = [\"start_day\", \"start_time\", \"data1\", \"data2\", \"data3\", \"data4\", \"data5\"]"
   ],
   "metadata": {
    "collapsed": false,
    "ExecuteTime": {
     "end_time": "2023-12-28T10:40:58.771911Z",
     "start_time": "2023-12-28T10:40:58.769095Z"
    }
   },
   "id": "12b579069fb9543a"
  },
  {
   "cell_type": "code",
   "execution_count": 9,
   "outputs": [
    {
     "data": {
      "text/plain": "0      35922.23\n1      35949.49\n2      35961.86\n3      35929.00\n4      35898.84\n         ...   \n994    36641.87\n995    36608.87\n996    36608.67\n997    36631.10\n998    36608.87\nName: data1, Length: 999, dtype: float64"
     },
     "execution_count": 9,
     "metadata": {},
     "output_type": "execute_result"
    }
   ],
   "source": [
    "df.data1"
   ],
   "metadata": {
    "collapsed": false,
    "ExecuteTime": {
     "end_time": "2023-12-28T10:41:42.538263Z",
     "start_time": "2023-12-28T10:41:42.532708Z"
    }
   },
   "id": "ac964cbf35d5da22"
  },
  {
   "cell_type": "code",
   "execution_count": 16,
   "outputs": [],
   "source": [
    "df1 = df[df['data1'] > 1000]"
   ],
   "metadata": {
    "collapsed": false,
    "ExecuteTime": {
     "end_time": "2023-12-28T10:44:07.460487Z",
     "start_time": "2023-12-28T10:44:07.453949Z"
    }
   },
   "id": "ace647d8f82024b6"
  },
  {
   "cell_type": "code",
   "execution_count": 18,
   "outputs": [
    {
     "data": {
      "text/plain": "start_day        1/25/2022\nstart_time     11:21:00 AM\ndata1             36008.82\ndata2             36010.89\ndata3             35977.02\ndata4             35993.83\ndata5              8.04961\nName: 30, dtype: object"
     },
     "execution_count": 18,
     "metadata": {},
     "output_type": "execute_result"
    }
   ],
   "source": [
    "df1.iloc[30]"
   ],
   "metadata": {
    "collapsed": false,
    "ExecuteTime": {
     "end_time": "2023-12-28T10:45:59.591437Z",
     "start_time": "2023-12-28T10:45:59.584231Z"
    }
   },
   "id": "4f57d8e4997e1784"
  },
  {
   "cell_type": "code",
   "execution_count": 30,
   "outputs": [
    {
     "ename": "KeyError",
     "evalue": "'Requested level (start_day) does not match index name (None)'",
     "output_type": "error",
     "traceback": [
      "\u001B[0;31m---------------------------------------------------------------------------\u001B[0m",
      "\u001B[0;31mKeyError\u001B[0m                                  Traceback (most recent call last)",
      "Cell \u001B[0;32mIn[30], line 1\u001B[0m\n\u001B[0;32m----> 1\u001B[0m df1\u001B[38;5;241m=\u001B[39m\u001B[43mdf1\u001B[49m\u001B[38;5;241;43m.\u001B[39;49m\u001B[43mreset_index\u001B[49m\u001B[43m(\u001B[49m\u001B[43m[\u001B[49m\u001B[38;5;124;43m'\u001B[39;49m\u001B[38;5;124;43mstart_day\u001B[39;49m\u001B[38;5;124;43m'\u001B[39;49m\u001B[43m]\u001B[49m\u001B[43m)\u001B[49m\n",
      "File \u001B[0;32m~/anaconda3/envs/machine_learning/lib/python3.8/site-packages/pandas/core/frame.py:6162\u001B[0m, in \u001B[0;36mDataFrame.reset_index\u001B[0;34m(self, level, drop, inplace, col_level, col_fill, allow_duplicates, names)\u001B[0m\n\u001B[1;32m   6160\u001B[0m \u001B[38;5;28;01mif\u001B[39;00m \u001B[38;5;129;01mnot\u001B[39;00m \u001B[38;5;28misinstance\u001B[39m(level, (\u001B[38;5;28mtuple\u001B[39m, \u001B[38;5;28mlist\u001B[39m)):\n\u001B[1;32m   6161\u001B[0m     level \u001B[38;5;241m=\u001B[39m [level]\n\u001B[0;32m-> 6162\u001B[0m level \u001B[38;5;241m=\u001B[39m [\u001B[38;5;28mself\u001B[39m\u001B[38;5;241m.\u001B[39mindex\u001B[38;5;241m.\u001B[39m_get_level_number(lev) \u001B[38;5;28;01mfor\u001B[39;00m lev \u001B[38;5;129;01min\u001B[39;00m level]\n\u001B[1;32m   6163\u001B[0m \u001B[38;5;28;01mif\u001B[39;00m \u001B[38;5;28mlen\u001B[39m(level) \u001B[38;5;241m<\u001B[39m \u001B[38;5;28mself\u001B[39m\u001B[38;5;241m.\u001B[39mindex\u001B[38;5;241m.\u001B[39mnlevels:\n\u001B[1;32m   6164\u001B[0m     new_index \u001B[38;5;241m=\u001B[39m \u001B[38;5;28mself\u001B[39m\u001B[38;5;241m.\u001B[39mindex\u001B[38;5;241m.\u001B[39mdroplevel(level)\n",
      "File \u001B[0;32m~/anaconda3/envs/machine_learning/lib/python3.8/site-packages/pandas/core/frame.py:6162\u001B[0m, in \u001B[0;36m<listcomp>\u001B[0;34m(.0)\u001B[0m\n\u001B[1;32m   6160\u001B[0m \u001B[38;5;28;01mif\u001B[39;00m \u001B[38;5;129;01mnot\u001B[39;00m \u001B[38;5;28misinstance\u001B[39m(level, (\u001B[38;5;28mtuple\u001B[39m, \u001B[38;5;28mlist\u001B[39m)):\n\u001B[1;32m   6161\u001B[0m     level \u001B[38;5;241m=\u001B[39m [level]\n\u001B[0;32m-> 6162\u001B[0m level \u001B[38;5;241m=\u001B[39m [\u001B[38;5;28;43mself\u001B[39;49m\u001B[38;5;241;43m.\u001B[39;49m\u001B[43mindex\u001B[49m\u001B[38;5;241;43m.\u001B[39;49m\u001B[43m_get_level_number\u001B[49m\u001B[43m(\u001B[49m\u001B[43mlev\u001B[49m\u001B[43m)\u001B[49m \u001B[38;5;28;01mfor\u001B[39;00m lev \u001B[38;5;129;01min\u001B[39;00m level]\n\u001B[1;32m   6163\u001B[0m \u001B[38;5;28;01mif\u001B[39;00m \u001B[38;5;28mlen\u001B[39m(level) \u001B[38;5;241m<\u001B[39m \u001B[38;5;28mself\u001B[39m\u001B[38;5;241m.\u001B[39mindex\u001B[38;5;241m.\u001B[39mnlevels:\n\u001B[1;32m   6164\u001B[0m     new_index \u001B[38;5;241m=\u001B[39m \u001B[38;5;28mself\u001B[39m\u001B[38;5;241m.\u001B[39mindex\u001B[38;5;241m.\u001B[39mdroplevel(level)\n",
      "File \u001B[0;32m~/anaconda3/envs/machine_learning/lib/python3.8/site-packages/pandas/core/indexes/base.py:1915\u001B[0m, in \u001B[0;36mIndex._get_level_number\u001B[0;34m(self, level)\u001B[0m\n\u001B[1;32m   1914\u001B[0m \u001B[38;5;28;01mdef\u001B[39;00m \u001B[38;5;21m_get_level_number\u001B[39m(\u001B[38;5;28mself\u001B[39m, level) \u001B[38;5;241m-\u001B[39m\u001B[38;5;241m>\u001B[39m \u001B[38;5;28mint\u001B[39m:\n\u001B[0;32m-> 1915\u001B[0m     \u001B[38;5;28;43mself\u001B[39;49m\u001B[38;5;241;43m.\u001B[39;49m\u001B[43m_validate_index_level\u001B[49m\u001B[43m(\u001B[49m\u001B[43mlevel\u001B[49m\u001B[43m)\u001B[49m\n\u001B[1;32m   1916\u001B[0m     \u001B[38;5;28;01mreturn\u001B[39;00m \u001B[38;5;241m0\u001B[39m\n",
      "File \u001B[0;32m~/anaconda3/envs/machine_learning/lib/python3.8/site-packages/pandas/core/indexes/base.py:1910\u001B[0m, in \u001B[0;36mIndex._validate_index_level\u001B[0;34m(self, level)\u001B[0m\n\u001B[1;32m   1906\u001B[0m         \u001B[38;5;28;01mraise\u001B[39;00m \u001B[38;5;167;01mIndexError\u001B[39;00m(\n\u001B[1;32m   1907\u001B[0m             \u001B[38;5;124mf\u001B[39m\u001B[38;5;124m\"\u001B[39m\u001B[38;5;124mToo many levels: Index has only 1 level, not \u001B[39m\u001B[38;5;132;01m{\u001B[39;00mlevel\u001B[38;5;250m \u001B[39m\u001B[38;5;241m+\u001B[39m\u001B[38;5;250m \u001B[39m\u001B[38;5;241m1\u001B[39m\u001B[38;5;132;01m}\u001B[39;00m\u001B[38;5;124m\"\u001B[39m\n\u001B[1;32m   1908\u001B[0m         )\n\u001B[1;32m   1909\u001B[0m \u001B[38;5;28;01melif\u001B[39;00m level \u001B[38;5;241m!=\u001B[39m \u001B[38;5;28mself\u001B[39m\u001B[38;5;241m.\u001B[39mname:\n\u001B[0;32m-> 1910\u001B[0m     \u001B[38;5;28;01mraise\u001B[39;00m \u001B[38;5;167;01mKeyError\u001B[39;00m(\n\u001B[1;32m   1911\u001B[0m         \u001B[38;5;124mf\u001B[39m\u001B[38;5;124m\"\u001B[39m\u001B[38;5;124mRequested level (\u001B[39m\u001B[38;5;132;01m{\u001B[39;00mlevel\u001B[38;5;132;01m}\u001B[39;00m\u001B[38;5;124m) does not match index name (\u001B[39m\u001B[38;5;132;01m{\u001B[39;00m\u001B[38;5;28mself\u001B[39m\u001B[38;5;241m.\u001B[39mname\u001B[38;5;132;01m}\u001B[39;00m\u001B[38;5;124m)\u001B[39m\u001B[38;5;124m\"\u001B[39m\n\u001B[1;32m   1912\u001B[0m     )\n",
      "\u001B[0;31mKeyError\u001B[0m: 'Requested level (start_day) does not match index name (None)'"
     ]
    }
   ],
   "source": [
    "df1 = df1.reset_index(['start_day'])"
   ],
   "metadata": {
    "collapsed": false,
    "ExecuteTime": {
     "end_time": "2023-12-29T01:05:52.697163Z",
     "start_time": "2023-12-29T01:05:52.650233Z"
    }
   },
   "id": "1ad5295ed027c64b"
  },
  {
   "cell_type": "code",
   "execution_count": 33,
   "outputs": [
    {
     "data": {
      "text/plain": "start_time     9:59:00 PM\ndata1            37484.23\ndata2            37545.14\ndata3             37440.0\ndata4            37484.23\ndata5            359.9839\ndtype: object"
     },
     "execution_count": 33,
     "metadata": {},
     "output_type": "execute_result"
    }
   ],
   "source": [
    "df1.sort_index(ascending=True)\n",
    "df1.max()"
   ],
   "metadata": {
    "collapsed": false,
    "ExecuteTime": {
     "end_time": "2023-12-29T01:11:55.563750Z",
     "start_time": "2023-12-29T01:11:55.535921Z"
    }
   },
   "id": "ba33d813fcb3423e"
  },
  {
   "cell_type": "code",
   "execution_count": 43,
   "outputs": [],
   "source": [
    "import numpy as np\n",
    "\n",
    "np1 = np.array([1, 2, 3, 4])\n",
    "np2 = np.array([[(1, 2, 3), (3, 4, 5)], [(1, 2, 3), (3, 4, 5)]], dtype=int)"
   ],
   "metadata": {
    "collapsed": false,
    "ExecuteTime": {
     "end_time": "2023-12-29T01:25:53.928966Z",
     "start_time": "2023-12-29T01:25:53.926525Z"
    }
   },
   "id": "14d3b0a690ac03"
  },
  {
   "cell_type": "code",
   "execution_count": 44,
   "outputs": [
    {
     "name": "stdout",
     "output_type": "stream",
     "text": [
      "1\n",
      "(2, 2, 3)\n",
      "4\n"
     ]
    }
   ],
   "source": [
    "print(np1.ndim)\n",
    "print(np2.shape)\n",
    "print(np1.size)"
   ],
   "metadata": {
    "collapsed": false,
    "ExecuteTime": {
     "end_time": "2023-12-29T01:25:55.777250Z",
     "start_time": "2023-12-29T01:25:55.773187Z"
    }
   },
   "id": "c1c39483ddf5268a"
  },
  {
   "cell_type": "code",
   "execution_count": 45,
   "outputs": [],
   "source": [
    "np3 = np.zeros((2, 1, 3))"
   ],
   "metadata": {
    "collapsed": false,
    "ExecuteTime": {
     "end_time": "2023-12-29T01:26:21.099444Z",
     "start_time": "2023-12-29T01:26:21.094290Z"
    }
   },
   "id": "941aa84fe51a1e8b"
  },
  {
   "cell_type": "code",
   "execution_count": 48,
   "outputs": [],
   "source": [
    "np4 = np.arange(0, 10, 1)"
   ],
   "metadata": {
    "collapsed": false,
    "ExecuteTime": {
     "end_time": "2023-12-29T01:27:16.044697Z",
     "start_time": "2023-12-29T01:27:16.038213Z"
    }
   },
   "id": "6626f948e2c3411"
  },
  {
   "cell_type": "code",
   "execution_count": 56,
   "outputs": [
    {
     "data": {
      "text/plain": "array([[[1, 3]],\n\n       [[1, 3]]])"
     },
     "execution_count": 56,
     "metadata": {},
     "output_type": "execute_result"
    }
   ],
   "source": [
    "np2[::1, ::2, ::2]"
   ],
   "metadata": {
    "collapsed": false,
    "ExecuteTime": {
     "end_time": "2023-12-29T01:32:01.068772Z",
     "start_time": "2023-12-29T01:32:01.063676Z"
    }
   },
   "id": "995755e4deab3d96"
  },
  {
   "cell_type": "code",
   "execution_count": 74,
   "outputs": [],
   "source": [
    "a = np.floor(np.random.random((2, 12)))\n",
    "b = a.copy()\n",
    "# b doesn't share anything from a"
   ],
   "metadata": {
    "collapsed": false,
    "ExecuteTime": {
     "end_time": "2023-12-29T02:02:23.169248Z",
     "start_time": "2023-12-29T02:02:23.165739Z"
    }
   },
   "id": "5b5ee8781eaa5641"
  },
  {
   "cell_type": "code",
   "execution_count": 78,
   "outputs": [
    {
     "data": {
      "text/plain": "False"
     },
     "execution_count": 78,
     "metadata": {},
     "output_type": "execute_result"
    }
   ],
   "source": [],
   "metadata": {
    "collapsed": false,
    "ExecuteTime": {
     "end_time": "2023-12-29T02:02:59.748521Z",
     "start_time": "2023-12-29T02:02:59.743097Z"
    }
   },
   "id": "10373ba806293f9b"
  },
  {
   "cell_type": "code",
   "execution_count": null,
   "outputs": [],
   "source": [],
   "metadata": {
    "collapsed": false
   },
   "id": "fc29f89aa1016e9"
  }
 ],
 "metadata": {
  "kernelspec": {
   "display_name": "Python 3",
   "language": "python",
   "name": "python3"
  },
  "language_info": {
   "codemirror_mode": {
    "name": "ipython",
    "version": 2
   },
   "file_extension": ".py",
   "mimetype": "text/x-python",
   "name": "python",
   "nbconvert_exporter": "python",
   "pygments_lexer": "ipython2",
   "version": "2.7.6"
  }
 },
 "nbformat": 4,
 "nbformat_minor": 5
}
