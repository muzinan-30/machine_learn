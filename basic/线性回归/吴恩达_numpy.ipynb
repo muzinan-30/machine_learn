{
 "cells": [
  {
   "cell_type": "markdown",
   "source": [
    "numpy and vectorization"
   ],
   "metadata": {
    "collapsed": false
   },
   "id": "f8ea8b8986cf9e3"
  },
  {
   "cell_type": "code",
   "execution_count": 1,
   "id": "initial_id",
   "metadata": {
    "collapsed": true,
    "ExecuteTime": {
     "end_time": "2024-01-10T01:54:01.661691Z",
     "start_time": "2024-01-10T01:54:01.344267Z"
    }
   },
   "outputs": [],
   "source": [
    "import numpy as np\n",
    "import time"
   ]
  },
  {
   "cell_type": "code",
   "execution_count": 24,
   "outputs": [
    {
     "name": "stdout",
     "output_type": "stream",
     "text": [
      "array_c dtype float64,array_c shape is (4,)\n",
      "np.array([5.,4,3,2]): a = [1 2 3 4], a shape = (4,), a data type = int64\n",
      "np.array([5.,4,3,2]): a = [5. 4. 3. 2.], a shape = (4,), a data type = float64\n"
     ]
    }
   ],
   "source": [
    "array_a = np.zeros((4, 2), dtype=float)\n",
    "array_b = np.zeros(4)\n",
    "array_c = np.random.random_sample(4)\n",
    "print(f\"array_c dtype {array_c.dtype},array_c shape is {array_c.shape}\")\n",
    "array_d = np.arange(4)\n",
    "array_e = np.random.rand(4) * 10\n",
    "array_f = np.array([1, 2, 3, 4]);\n",
    "print(f\"np.array([5.,4,3,2]): a = {array_f}, a shape = {array_f.shape}, a data type = {array_f.dtype}\")  # this is int64\n",
    "array_g = np.array([5., 4, 3, 2]);\n",
    "print(\n",
    "    f\"np.array([5.,4,3,2]): a = {array_g}, a shape = {array_g.shape}, a data type = {array_g.dtype}\")  # this is float64"
   ],
   "metadata": {
    "collapsed": false,
    "ExecuteTime": {
     "end_time": "2024-01-10T02:07:36.342687Z",
     "start_time": "2024-01-10T02:07:36.338820Z"
    }
   },
   "id": "242afbd5013a611e"
  },
  {
   "cell_type": "code",
   "execution_count": 28,
   "outputs": [
    {
     "name": "stdout",
     "output_type": "stream",
     "text": [
      "[0 1 2 3 4 5 6 7 8 9]\n",
      "array_example[2] shape () array_example = 2\n",
      "The errors is coming\n",
      "index 10 is out of bounds for axis 0 with size 10\n"
     ]
    }
   ],
   "source": [
    "array_example = np.arange(10)\n",
    "print(array_example)\n",
    "print(f\"array_example[2] shape {array_example[2].shape} array_example = {array_example[2]}\")\n",
    "try:\n",
    "    c = array_example[10]\n",
    "except Exception as e:\n",
    "    print(\"The errors is coming\")\n",
    "    print(e)"
   ],
   "metadata": {
    "collapsed": false,
    "ExecuteTime": {
     "end_time": "2024-01-10T02:10:51.540156Z",
     "start_time": "2024-01-10T02:10:51.536545Z"
    }
   },
   "id": "704c3d460cb359d"
  },
  {
   "cell_type": "code",
   "execution_count": 33,
   "outputs": [
    {
     "name": "stdout",
     "output_type": "stream",
     "text": [
      "[0 1 2 3 4 5 6 7 8 9]\n"
     ]
    },
    {
     "data": {
      "text/plain": "array([0, 1, 2, 3, 4, 5, 6, 7, 8, 9])"
     },
     "execution_count": 33,
     "metadata": {},
     "output_type": "execute_result"
    }
   ],
   "source": [
    "array_example = np.arange(10)\n",
    "print(array_example)\n",
    "c = array_example[2:7:1]\n",
    "c = array_example[2:7:2]\n",
    "c = array_example[3:]\n",
    "c = array_example[:7]\n",
    "c = array_example[:]\n",
    "c"
   ],
   "metadata": {
    "collapsed": false,
    "ExecuteTime": {
     "end_time": "2024-01-10T02:12:21.483350Z",
     "start_time": "2024-01-10T02:12:21.477945Z"
    }
   },
   "id": "158df17fd0901c04"
  },
  {
   "cell_type": "code",
   "execution_count": 36,
   "outputs": [
    {
     "name": "stdout",
     "output_type": "stream",
     "text": [
      "[0 1 2 3 4 5 6 7 8 9]\n",
      "b = -array_example [ 0 -1 -2 -3 -4 -5 -6 -7 -8 -9]\n"
     ]
    },
    {
     "data": {
      "text/plain": "array([ 0,  1,  4,  9, 16, 25, 36, 49, 64, 81])"
     },
     "execution_count": 36,
     "metadata": {},
     "output_type": "execute_result"
    }
   ],
   "source": [
    "array_example = np.arange(10)\n",
    "print(array_example)\n",
    "b = -array_example\n",
    "print(f\"b = -array_example {b}\")\n",
    "b = np.sum(array_example)\n",
    "b = np.mean(array_example)\n",
    "b = array_example ** 2\n",
    "b"
   ],
   "metadata": {
    "collapsed": false,
    "ExecuteTime": {
     "end_time": "2024-01-10T02:14:17.768009Z",
     "start_time": "2024-01-10T02:14:17.762718Z"
    }
   },
   "id": "faca4842cce70e36"
  },
  {
   "cell_type": "code",
   "execution_count": 39,
   "outputs": [
    {
     "data": {
      "text/plain": "70"
     },
     "execution_count": 39,
     "metadata": {},
     "output_type": "execute_result"
    }
   ],
   "source": [
    "array1 = np.array([1, 2, 3, 4])\n",
    "array2 = np.array([5, 6, 7, 8])\n",
    "\n",
    "result = np.dot(array1, array2)\n",
    "result"
   ],
   "metadata": {
    "collapsed": false,
    "ExecuteTime": {
     "end_time": "2024-01-10T03:01:58.724248Z",
     "start_time": "2024-01-10T03:01:58.718137Z"
    }
   },
   "id": "a0574b147da432b1"
  },
  {
   "cell_type": "code",
   "execution_count": 43,
   "outputs": [
    {
     "name": "stdout",
     "output_type": "stream",
     "text": [
      "0.12493133544921875\n"
     ]
    }
   ],
   "source": [
    "np.random.seed(1)\n",
    "a = np.random.rand(100000)\n",
    "b = np.random.rand(100000)\n",
    "tic = time.time()\n",
    "c = np.dot(a,b)\n",
    "toc = time.time()\n",
    "print((toc - tic) * 1000)"
   ],
   "metadata": {
    "collapsed": false,
    "ExecuteTime": {
     "end_time": "2024-01-10T03:06:57.432545Z",
     "start_time": "2024-01-10T03:06:57.428025Z"
    }
   },
   "id": "5c0b2c8f293988c4"
  },
  {
   "cell_type": "code",
   "execution_count": 47,
   "outputs": [
    {
     "data": {
      "text/plain": "(3, 2)"
     },
     "execution_count": 47,
     "metadata": {},
     "output_type": "execute_result"
    }
   ],
   "source": [
    "a = np.arange(6).reshape(-1,2)\n",
    "a.shape"
   ],
   "metadata": {
    "collapsed": false,
    "ExecuteTime": {
     "end_time": "2024-01-10T03:11:12.045491Z",
     "start_time": "2024-01-10T03:11:12.043530Z"
    }
   },
   "id": "f70462ae875b224c"
  },
  {
   "cell_type": "code",
   "execution_count": null,
   "outputs": [],
   "source": [],
   "metadata": {
    "collapsed": false
   },
   "id": "c0d3743d822197ae"
  }
 ],
 "metadata": {
  "kernelspec": {
   "display_name": "Python 3",
   "language": "python",
   "name": "python3"
  },
  "language_info": {
   "codemirror_mode": {
    "name": "ipython",
    "version": 2
   },
   "file_extension": ".py",
   "mimetype": "text/x-python",
   "name": "python",
   "nbconvert_exporter": "python",
   "pygments_lexer": "ipython2",
   "version": "2.7.6"
  }
 },
 "nbformat": 4,
 "nbformat_minor": 5
}
