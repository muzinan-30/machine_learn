{
 "cells": [
  {
   "cell_type": "code",
   "execution_count": 4,
   "id": "initial_id",
   "metadata": {
    "collapsed": true,
    "ExecuteTime": {
     "end_time": "2024-01-15T09:20:33.174243Z",
     "start_time": "2024-01-15T09:20:33.168374Z"
    }
   },
   "outputs": [],
   "source": [
    "import lightgbm as lgb\n",
    "from sklearn.datasets import load_iris\n",
    "from sklearn.model_selection import train_test_split\n",
    "from sklearn.metrics import accuracy_score"
   ]
  },
  {
   "cell_type": "code",
   "execution_count": 6,
   "outputs": [],
   "source": [
    "# 加载 Iris 数据集\n",
    "iris = load_iris()\n",
    "X, y = iris.data, iris.target"
   ],
   "metadata": {
    "collapsed": false,
    "ExecuteTime": {
     "end_time": "2024-01-15T09:21:18.541592Z",
     "start_time": "2024-01-15T09:21:18.531696Z"
    }
   },
   "id": "7dc9467e1c726dd3"
  },
  {
   "cell_type": "code",
   "execution_count": 7,
   "outputs": [],
   "source": [
    "X_train,y_train,X_test,y_test=train_test_split(X, y, test_size=0.3, random_state=42)"
   ],
   "metadata": {
    "collapsed": false,
    "ExecuteTime": {
     "end_time": "2024-01-15T09:21:32.947640Z",
     "start_time": "2024-01-15T09:21:32.936128Z"
    }
   },
   "id": "ad0952b35a49c340"
  },
  {
   "cell_type": "code",
   "execution_count": 9,
   "outputs": [
    {
     "data": {
      "text/plain": "array([[5.5, 2.4, 3.7, 1. ],\n       [6.3, 2.8, 5.1, 1.5],\n       [6.4, 3.1, 5.5, 1.8],\n       [6.6, 3. , 4.4, 1.4],\n       [7.2, 3.6, 6.1, 2.5],\n       [5.7, 2.9, 4.2, 1.3],\n       [7.6, 3. , 6.6, 2.1],\n       [5.6, 3. , 4.5, 1.5],\n       [5.1, 3.5, 1.4, 0.2],\n       [7.7, 2.8, 6.7, 2. ],\n       [5.8, 2.7, 4.1, 1. ],\n       [5.2, 3.4, 1.4, 0.2],\n       [5. , 3.5, 1.3, 0.3],\n       [5.1, 3.8, 1.9, 0.4],\n       [5. , 2. , 3.5, 1. ],\n       [6.3, 2.7, 4.9, 1.8],\n       [4.8, 3.4, 1.9, 0.2],\n       [5. , 3. , 1.6, 0.2],\n       [5.1, 3.3, 1.7, 0.5],\n       [5.6, 2.7, 4.2, 1.3],\n       [5.1, 3.4, 1.5, 0.2],\n       [5.7, 3. , 4.2, 1.2],\n       [7.7, 3.8, 6.7, 2.2],\n       [4.6, 3.2, 1.4, 0.2],\n       [6.2, 2.9, 4.3, 1.3],\n       [5.7, 2.5, 5. , 2. ],\n       [5.5, 4.2, 1.4, 0.2],\n       [6. , 3. , 4.8, 1.8],\n       [5.8, 2.7, 5.1, 1.9],\n       [6. , 2.2, 4. , 1. ],\n       [5.4, 3. , 4.5, 1.5],\n       [6.2, 3.4, 5.4, 2.3],\n       [5.5, 2.3, 4. , 1.3],\n       [5.4, 3.9, 1.7, 0.4],\n       [5. , 2.3, 3.3, 1. ],\n       [6.4, 2.7, 5.3, 1.9],\n       [5. , 3.3, 1.4, 0.2],\n       [5. , 3.2, 1.2, 0.2],\n       [5.5, 2.4, 3.8, 1.1],\n       [6.7, 3. , 5. , 1.7],\n       [4.9, 3.1, 1.5, 0.2],\n       [5.8, 2.8, 5.1, 2.4],\n       [5. , 3.4, 1.5, 0.2],\n       [5. , 3.5, 1.6, 0.6],\n       [5.9, 3.2, 4.8, 1.8],\n       [5.1, 2.5, 3. , 1.1],\n       [6.9, 3.2, 5.7, 2.3],\n       [6. , 2.7, 5.1, 1.6],\n       [6.1, 2.6, 5.6, 1.4],\n       [7.7, 3. , 6.1, 2.3],\n       [5.5, 2.5, 4. , 1.3],\n       [4.4, 2.9, 1.4, 0.2],\n       [4.3, 3. , 1.1, 0.1],\n       [6. , 2.2, 5. , 1.5],\n       [7.2, 3.2, 6. , 1.8],\n       [4.6, 3.1, 1.5, 0.2],\n       [5.1, 3.5, 1.4, 0.3],\n       [4.4, 3. , 1.3, 0.2],\n       [6.3, 2.5, 4.9, 1.5],\n       [6.3, 3.4, 5.6, 2.4],\n       [4.6, 3.4, 1.4, 0.3],\n       [6.8, 3. , 5.5, 2.1],\n       [6.3, 3.3, 6. , 2.5],\n       [4.7, 3.2, 1.3, 0.2],\n       [6.1, 2.9, 4.7, 1.4],\n       [6.5, 2.8, 4.6, 1.5],\n       [6.2, 2.8, 4.8, 1.8],\n       [7. , 3.2, 4.7, 1.4],\n       [6.4, 3.2, 5.3, 2.3],\n       [5.1, 3.8, 1.6, 0.2],\n       [6.9, 3.1, 5.4, 2.1],\n       [5.9, 3. , 4.2, 1.5],\n       [6.5, 3. , 5.2, 2. ],\n       [5.7, 2.6, 3.5, 1. ],\n       [5.2, 2.7, 3.9, 1.4],\n       [6.1, 3. , 4.6, 1.4],\n       [4.5, 2.3, 1.3, 0.3],\n       [6.6, 2.9, 4.6, 1.3],\n       [5.5, 2.6, 4.4, 1.2],\n       [5.3, 3.7, 1.5, 0.2],\n       [5.6, 3. , 4.1, 1.3],\n       [7.3, 2.9, 6.3, 1.8],\n       [6.7, 3.3, 5.7, 2.1],\n       [5.1, 3.7, 1.5, 0.4],\n       [4.9, 2.4, 3.3, 1. ],\n       [6.7, 3.3, 5.7, 2.5],\n       [7.2, 3. , 5.8, 1.6],\n       [4.9, 3.6, 1.4, 0.1],\n       [6.7, 3.1, 5.6, 2.4],\n       [4.9, 3. , 1.4, 0.2],\n       [6.9, 3.1, 4.9, 1.5],\n       [7.4, 2.8, 6.1, 1.9],\n       [6.3, 2.9, 5.6, 1.8],\n       [5.7, 2.8, 4.1, 1.3],\n       [6.5, 3. , 5.5, 1.8],\n       [6.3, 2.3, 4.4, 1.3],\n       [6.4, 2.9, 4.3, 1.3],\n       [5.6, 2.8, 4.9, 2. ],\n       [5.9, 3. , 5.1, 1.8],\n       [5.4, 3.4, 1.7, 0.2],\n       [6.1, 2.8, 4. , 1.3],\n       [4.9, 2.5, 4.5, 1.7],\n       [5.8, 4. , 1.2, 0.2],\n       [5.8, 2.6, 4. , 1.2],\n       [7.1, 3. , 5.9, 2.1]])"
     },
     "execution_count": 9,
     "metadata": {},
     "output_type": "execute_result"
    }
   ],
   "source": [
    "# 创建 LightGBM 数据矩阵\n",
    "train_data = lgb.Dataset(X_train, label=y_train)\n",
    "test_data = lgb.Dataset(X_test, label=y_test, reference=train_data)\n",
    "train_data.data"
   ],
   "metadata": {
    "collapsed": false,
    "ExecuteTime": {
     "end_time": "2024-01-15T09:21:50.728669Z",
     "start_time": "2024-01-15T09:21:50.721859Z"
    }
   },
   "id": "97bdd1a6891eeeb3"
  },
  {
   "cell_type": "code",
   "execution_count": null,
   "outputs": [],
   "source": [
    "# 设置 LightGBM 参数\n",
    "params = {\n",
    "    'boosting_type': 'gbdt',\n",
    "    'objective': 'multiclass',\n",
    "    'num_class': 3,\n",
    "    'metric': 'multi_logloss',\n",
    "    'num_leaves': 31,\n",
    "    'learning_rate': 0.05,\n",
    "    'feature_fraction': 0.9\n",
    "}\n",
    "\n",
    "# 训练模型\n",
    "gbm = lgb.train(params, train_data, num_boost_round=100, valid_sets=[train_data, test_data])\n",
    "\n",
    "# 预测数据\n",
    "y_pred = gbm.predict(X_test, num_iteration=gbm.best_iteration)\n",
    "y_pred_max = [list(x).index(max(x)) for x in y_pred]"
   ],
   "metadata": {
    "collapsed": false,
    "is_executing": true,
    "ExecuteTime": {
     "start_time": "2024-01-15T09:22:09.271039Z"
    }
   },
   "id": "e6e17f3afe7bb2c0"
  },
  {
   "cell_type": "code",
   "execution_count": null,
   "outputs": [],
   "source": [
    "# 评估模型\n",
    "accuracy = accuracy_score(y_test, y_pred_max)\n",
    "print(f'模型的准确率为: {accuracy}')"
   ],
   "metadata": {
    "collapsed": false
   },
   "id": "7286d52ee66572f5"
  }
 ],
 "metadata": {
  "kernelspec": {
   "display_name": "Python 3",
   "language": "python",
   "name": "python3"
  },
  "language_info": {
   "codemirror_mode": {
    "name": "ipython",
    "version": 2
   },
   "file_extension": ".py",
   "mimetype": "text/x-python",
   "name": "python",
   "nbconvert_exporter": "python",
   "pygments_lexer": "ipython2",
   "version": "2.7.6"
  }
 },
 "nbformat": 4,
 "nbformat_minor": 5
}
